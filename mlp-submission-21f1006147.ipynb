{
 "cells": [
  {
   "cell_type": "code",
   "execution_count": 1,
   "id": "08d8b67d",
   "metadata": {
    "_cell_guid": "b1076dfc-b9ad-4769-8c92-a6c4dae69d19",
    "_uuid": "8f2839f25d086af736a60e9eeb907d3b93b6e0e5",
    "execution": {
     "iopub.execute_input": "2022-12-18T09:19:28.963903Z",
     "iopub.status.busy": "2022-12-18T09:19:28.962943Z",
     "iopub.status.idle": "2022-12-18T09:19:30.761118Z",
     "shell.execute_reply": "2022-12-18T09:19:30.759861Z"
    },
    "papermill": {
     "duration": 1.814024,
     "end_time": "2022-12-18T09:19:30.764394",
     "exception": false,
     "start_time": "2022-12-18T09:19:28.950370",
     "status": "completed"
    },
    "tags": []
   },
   "outputs": [
    {
     "name": "stdout",
     "output_type": "stream",
     "text": [
      "/kaggle/input/marketing-strategy-personalised-offer/sample.csv\n",
      "/kaggle/input/marketing-strategy-personalised-offer/train_data.csv\n",
      "/kaggle/input/marketing-strategy-personalised-offer/test_data.csv\n"
     ]
    }
   ],
   "source": [
    "# This Python 3 environment comes with many helpful analytics libraries installed\n",
    "# It is defined by the kaggle/python Docker image: https://github.com/kaggle/docker-python\n",
    "# For example, here's several helpful packages to load\n",
    "\n",
    "import numpy as np # linear algebra\n",
    "import pandas as pd # data processing, CSV file I/O (e.g. pd.read_csv)\n",
    "import matplotlib.pyplot as plt\n",
    "from sklearn.preprocessing import StandardScaler,OrdinalEncoder,OneHotEncoder\n",
    "from sklearn.linear_model import LogisticRegression,RidgeClassifier\n",
    "from sklearn.model_selection import GridSearchCV,train_test_split,cross_val_score,RandomizedSearchCV\n",
    "from sklearn.impute import SimpleImputer\n",
    "from sklearn.dummy import DummyClassifier\n",
    "from sklearn.pipeline import Pipeline\n",
    "from sklearn.compose import ColumnTransformer\n",
    "from sklearn.naive_bayes import GaussianNB\n",
    "from sklearn.metrics import f1_score\n",
    "from sklearn.neighbors import KNeighborsClassifier\n",
    "from sklearn.svm import SVC,LinearSVC\n",
    "from sklearn.tree import DecisionTreeClassifier\n",
    "from sklearn.ensemble import BaggingClassifier,RandomForestClassifier,GradientBoostingClassifier,AdaBoostClassifier\n",
    "from sklearn.cluster import KMeans\n",
    "from sklearn.neural_network import MLPClassifier\n",
    "from sklearn.decomposition import PCA\n",
    "import xgboost as xgb\n",
    "import seaborn as sns\n",
    "import random\n",
    "# Input data files are available in the read-only \"../input/\" directory\n",
    "# For example, running this (by clicking run or pressing Shift+Enter) will list all files under the input directory\n",
    "\n",
    "import os\n",
    "for dirname, _, filenames in os.walk('/kaggle/input'):\n",
    "    for filename in filenames:\n",
    "        print(os.path.join(dirname, filename))\n",
    "\n",
    "# You can write up to 20GB to the current directory (/kaggle/working/) that gets preserved as output when you create a version using \"Save & Run All\" \n",
    "# You can also write temporary files to /kaggle/temp/, but they won't be saved outside of the current session"
   ]
  },
  {
   "cell_type": "code",
   "execution_count": 2,
   "id": "5358966c",
   "metadata": {
    "execution": {
     "iopub.execute_input": "2022-12-18T09:19:30.782818Z",
     "iopub.status.busy": "2022-12-18T09:19:30.782373Z",
     "iopub.status.idle": "2022-12-18T09:19:30.787801Z",
     "shell.execute_reply": "2022-12-18T09:19:30.786406Z"
    },
    "papermill": {
     "duration": 0.017166,
     "end_time": "2022-12-18T09:19:30.790104",
     "exception": false,
     "start_time": "2022-12-18T09:19:30.772938",
     "status": "completed"
    },
    "tags": []
   },
   "outputs": [],
   "source": [
    "Model_Scores={}"
   ]
  },
  {
   "cell_type": "code",
   "execution_count": 3,
   "id": "7fe1c39b",
   "metadata": {
    "execution": {
     "iopub.execute_input": "2022-12-18T09:19:30.808197Z",
     "iopub.status.busy": "2022-12-18T09:19:30.807804Z",
     "iopub.status.idle": "2022-12-18T09:19:30.933603Z",
     "shell.execute_reply": "2022-12-18T09:19:30.932151Z"
    },
    "papermill": {
     "duration": 0.13833,
     "end_time": "2022-12-18T09:19:30.936629",
     "exception": false,
     "start_time": "2022-12-18T09:19:30.798299",
     "status": "completed"
    },
    "tags": []
   },
   "outputs": [],
   "source": [
    "demo=pd.read_csv('/kaggle/input/marketing-strategy-personalised-offer/train_data.csv')\n",
    "demo_y=demo.pop('Offer Accepted')"
   ]
  },
  {
   "cell_type": "code",
   "execution_count": 4,
   "id": "42472c35",
   "metadata": {
    "execution": {
     "iopub.execute_input": "2022-12-18T09:19:30.955607Z",
     "iopub.status.busy": "2022-12-18T09:19:30.954911Z",
     "iopub.status.idle": "2022-12-18T09:19:30.968690Z",
     "shell.execute_reply": "2022-12-18T09:19:30.967475Z"
    },
    "papermill": {
     "duration": 0.026407,
     "end_time": "2022-12-18T09:19:30.971275",
     "exception": false,
     "start_time": "2022-12-18T09:19:30.944868",
     "status": "completed"
    },
    "tags": []
   },
   "outputs": [
    {
     "data": {
      "text/plain": [
       "0        1\n",
       "1        1\n",
       "2        1\n",
       "3        1\n",
       "4        1\n",
       "        ..\n",
       "12374    1\n",
       "12375    1\n",
       "12376    1\n",
       "12377    1\n",
       "12378    1\n",
       "Name: travelled_more_than_5mins_for_offer, Length: 12379, dtype: int64"
      ]
     },
     "execution_count": 4,
     "metadata": {},
     "output_type": "execute_result"
    }
   ],
   "source": [
    "ordinal_col_to_change=['offer expiration','income_range','no_visited_Cold drinks','Restaur_spend_less_than20',\n",
    "                      'age','no_visited_bars','no_Take-aways','Restaur_spend_greater_than20']\n",
    "nominal_col_to_change=['Marital Status','restaurant type','gender','car','Customer type','Qualification','Job/Job Industry','Climate','drop location']\n",
    "col_to_change=nominal_col_to_change+ordinal_col_to_change\n",
    "demo.pop('travelled_more_than_5mins_for_offer')"
   ]
  },
  {
   "cell_type": "code",
   "execution_count": 5,
   "id": "8a18737a",
   "metadata": {
    "execution": {
     "iopub.execute_input": "2022-12-18T09:19:30.990502Z",
     "iopub.status.busy": "2022-12-18T09:19:30.990060Z",
     "iopub.status.idle": "2022-12-18T09:19:31.054690Z",
     "shell.execute_reply": "2022-12-18T09:19:31.053329Z"
    },
    "papermill": {
     "duration": 0.077878,
     "end_time": "2022-12-18T09:19:31.057658",
     "exception": false,
     "start_time": "2022-12-18T09:19:30.979780",
     "status": "completed"
    },
    "tags": []
   },
   "outputs": [],
   "source": [
    "imputer = SimpleImputer(missing_values=np.nan,strategy='most_frequent')\n",
    "imputer2 = SimpleImputer(missing_values=np.nan,strategy='mean')\n",
    "for i in demo.columns:\n",
    "    if demo[i].dtypes==\"object\":\n",
    "        demo[i]=imputer.fit_transform(np.array(demo[i]).reshape(-1,1))\n",
    "    if demo[i].dtypes==\"int64\":\n",
    "        demo[i]=imputer2.fit_transform(np.array(demo[i]).reshape(-1,1))"
   ]
  },
  {
   "cell_type": "code",
   "execution_count": 6,
   "id": "41b9d54f",
   "metadata": {
    "execution": {
     "iopub.execute_input": "2022-12-18T09:19:31.079034Z",
     "iopub.status.busy": "2022-12-18T09:19:31.077560Z",
     "iopub.status.idle": "2022-12-18T09:19:31.160680Z",
     "shell.execute_reply": "2022-12-18T09:19:31.158987Z"
    },
    "papermill": {
     "duration": 0.09617,
     "end_time": "2022-12-18T09:19:31.163788",
     "exception": false,
     "start_time": "2022-12-18T09:19:31.067618",
     "status": "completed"
    },
    "tags": []
   },
   "outputs": [],
   "source": [
    "ordenc=OrdinalEncoder()\n",
    "ordinal_col_to_change=['offer expiration','income_range','no_visited_Cold drinks','Restaur_spend_less_than20',\n",
    "                      'age','no_visited_bars','no_Take-aways','Restaur_spend_greater_than20']\n",
    "nominal_col_to_change=['Marital Status','restaurant type','gender','car','Customer type','Qualification','Job/Job Industry','Climate','drop location']\n",
    "for i in demo.columns:\n",
    "    if demo[i].dtypes==\"object\":\n",
    "        demo[i]=ordenc.fit_transform(np.array(demo[i]).reshape(-1,1))\n",
    "demo_y=demo_y.replace(to_replace='Yes',value=1)\n",
    "demo_y=demo_y.replace(to_replace='No',value=0)"
   ]
  },
  {
   "cell_type": "code",
   "execution_count": 7,
   "id": "6d228cad",
   "metadata": {
    "execution": {
     "iopub.execute_input": "2022-12-18T09:19:31.183767Z",
     "iopub.status.busy": "2022-12-18T09:19:31.182320Z",
     "iopub.status.idle": "2022-12-18T09:19:31.202825Z",
     "shell.execute_reply": "2022-12-18T09:19:31.201495Z"
    },
    "papermill": {
     "duration": 0.033618,
     "end_time": "2022-12-18T09:19:31.205898",
     "exception": false,
     "start_time": "2022-12-18T09:19:31.172280",
     "status": "completed"
    },
    "tags": []
   },
   "outputs": [],
   "source": [
    "demo=StandardScaler().fit_transform(demo)"
   ]
  },
  {
   "cell_type": "code",
   "execution_count": 8,
   "id": "99c8d624",
   "metadata": {
    "execution": {
     "iopub.execute_input": "2022-12-18T09:19:31.224480Z",
     "iopub.status.busy": "2022-12-18T09:19:31.224027Z",
     "iopub.status.idle": "2022-12-18T09:19:31.235365Z",
     "shell.execute_reply": "2022-12-18T09:19:31.234077Z"
    },
    "papermill": {
     "duration": 0.024157,
     "end_time": "2022-12-18T09:19:31.238411",
     "exception": false,
     "start_time": "2022-12-18T09:19:31.214254",
     "status": "completed"
    },
    "tags": []
   },
   "outputs": [],
   "source": [
    "X_train,X_test,y_train,y_test=train_test_split(demo,demo_y,test_size=0.2,random_state=64)"
   ]
  },
  {
   "cell_type": "code",
   "execution_count": 9,
   "id": "df4bc8cb",
   "metadata": {
    "execution": {
     "iopub.execute_input": "2022-12-18T09:19:31.260475Z",
     "iopub.status.busy": "2022-12-18T09:19:31.259964Z",
     "iopub.status.idle": "2022-12-18T09:19:31.269737Z",
     "shell.execute_reply": "2022-12-18T09:19:31.267795Z"
    },
    "papermill": {
     "duration": 0.024672,
     "end_time": "2022-12-18T09:19:31.272800",
     "exception": false,
     "start_time": "2022-12-18T09:19:31.248128",
     "status": "completed"
    },
    "tags": []
   },
   "outputs": [
    {
     "data": {
      "text/plain": [
       "'dc = DummyClassifier(strategy=\\'uniform\\', random_state=64)\\ndc.fit(X_train, y_train)\\nModel_Scores[\"DummyClassifier\"]=f1_score(y_test,dc.predict(X_test))'"
      ]
     },
     "execution_count": 9,
     "metadata": {},
     "output_type": "execute_result"
    }
   ],
   "source": [
    "\"\"\"dc = DummyClassifier(strategy='uniform', random_state=64)\n",
    "dc.fit(X_train, y_train)\n",
    "Model_Scores[\"DummyClassifier\"]=f1_score(y_test,dc.predict(X_test))\"\"\""
   ]
  },
  {
   "cell_type": "code",
   "execution_count": 10,
   "id": "36b2fb32",
   "metadata": {
    "execution": {
     "iopub.execute_input": "2022-12-18T09:19:31.293773Z",
     "iopub.status.busy": "2022-12-18T09:19:31.292987Z",
     "iopub.status.idle": "2022-12-18T09:19:31.300046Z",
     "shell.execute_reply": "2022-12-18T09:19:31.299215Z"
    },
    "papermill": {
     "duration": 0.02042,
     "end_time": "2022-12-18T09:19:31.302255",
     "exception": false,
     "start_time": "2022-12-18T09:19:31.281835",
     "status": "completed"
    },
    "tags": []
   },
   "outputs": [
    {
     "data": {
      "text/plain": [
       "'param_grid={\\'penalty\\':[\\'l2\\'],\\n           \\'C\\':np.logspace(-4,4,20),\\n           \\'solver\\':[\\'newton-cg\\', \\'lbfgs\\', \\'liblinear\\', \\'sag\\', \\'saga\\'],\\n           \\'max_iter\\':[1000,1500,2000]}\\nBest parameter values:\\'C\\': 0.03359818286283781, \\'max_iter\\': 1000, \\'penalty\\': \\'l2\\', \\'solver\\': \\'lbfgs\\'\\nlr=LogisticRegression(max_iter=1000,C=0.03359818286283781,penalty=\\'l2\\',solver=\\'lbfgs\\')\\nlr.fit(X_train,y_train)\\nModel_Scores[\"LogisticRegression\"]=f1_score(y_test,lr.predict(X_test))'"
      ]
     },
     "execution_count": 10,
     "metadata": {},
     "output_type": "execute_result"
    }
   ],
   "source": [
    "\"\"\"param_grid={'penalty':['l2'],\n",
    "           'C':np.logspace(-4,4,20),\n",
    "           'solver':['newton-cg', 'lbfgs', 'liblinear', 'sag', 'saga'],\n",
    "           'max_iter':[1000,1500,2000]}\n",
    "Best parameter values:'C': 0.03359818286283781, 'max_iter': 1000, 'penalty': 'l2', 'solver': 'lbfgs'\n",
    "lr=LogisticRegression(max_iter=1000,C=0.03359818286283781,penalty='l2',solver='lbfgs')\n",
    "lr.fit(X_train,y_train)\n",
    "Model_Scores[\"LogisticRegression\"]=f1_score(y_test,lr.predict(X_test))\"\"\""
   ]
  },
  {
   "cell_type": "code",
   "execution_count": 11,
   "id": "6626ef56",
   "metadata": {
    "execution": {
     "iopub.execute_input": "2022-12-18T09:19:31.321978Z",
     "iopub.status.busy": "2022-12-18T09:19:31.321544Z",
     "iopub.status.idle": "2022-12-18T09:19:31.327634Z",
     "shell.execute_reply": "2022-12-18T09:19:31.326784Z"
    },
    "papermill": {
     "duration": 0.019012,
     "end_time": "2022-12-18T09:19:31.329986",
     "exception": false,
     "start_time": "2022-12-18T09:19:31.310974",
     "status": "completed"
    },
    "tags": []
   },
   "outputs": [
    {
     "data": {
      "text/plain": [
       "'param_grid={\\'alpha\\':list(np.arange(0,2,0.01))} \\nBest parameter value:{\\'alpha\\':0.0}\\nmeaning the model performs better without any regularization so its basically linear regression\\nrs=RidgeClassifier(alpha=0.0) \\nrs.fit(X_train,y_train)\\nModel_Scores[\"RidgeClassifier\"]=f1_score(y_test,rs.predict(X_test))'"
      ]
     },
     "execution_count": 11,
     "metadata": {},
     "output_type": "execute_result"
    }
   ],
   "source": [
    "\"\"\"param_grid={'alpha':list(np.arange(0,2,0.01))} \n",
    "Best parameter value:{'alpha':0.0}\n",
    "meaning the model performs better without any regularization so its basically linear regression\n",
    "rs=RidgeClassifier(alpha=0.0) \n",
    "rs.fit(X_train,y_train)\n",
    "Model_Scores[\"RidgeClassifier\"]=f1_score(y_test,rs.predict(X_test))\"\"\""
   ]
  },
  {
   "cell_type": "code",
   "execution_count": 12,
   "id": "64b4676e",
   "metadata": {
    "execution": {
     "iopub.execute_input": "2022-12-18T09:19:31.350725Z",
     "iopub.status.busy": "2022-12-18T09:19:31.350288Z",
     "iopub.status.idle": "2022-12-18T09:19:31.357050Z",
     "shell.execute_reply": "2022-12-18T09:19:31.356000Z"
    },
    "papermill": {
     "duration": 0.020087,
     "end_time": "2022-12-18T09:19:31.359262",
     "exception": false,
     "start_time": "2022-12-18T09:19:31.339175",
     "status": "completed"
    },
    "tags": []
   },
   "outputs": [
    {
     "data": {
      "text/plain": [
       "'param_grid={\\'var_smoothing\\': np.logspace(0,-9, num=100)}\\nBest parameter value:{\\'var_smoothing\\': 0.02310129700083159}\\ngnb=GaussianNB(var_smoothing=0.02310129700083159) #using gaussian naive bayes because \\n#it works well with continous values assuming data is normally distributed \\n#which it should since its normalised\\ngnb.fit(X_train,y_train)\\nModel_Scores[\"GaussianNaiveBayes\"]=f1_score(y_test,gnb.predict(X_test))'"
      ]
     },
     "execution_count": 12,
     "metadata": {},
     "output_type": "execute_result"
    }
   ],
   "source": [
    "\"\"\"param_grid={'var_smoothing': np.logspace(0,-9, num=100)}\n",
    "Best parameter value:{'var_smoothing': 0.02310129700083159}\n",
    "gnb=GaussianNB(var_smoothing=0.02310129700083159) #using gaussian naive bayes because \n",
    "#it works well with continous values assuming data is normally distributed \n",
    "#which it should since its normalised\n",
    "gnb.fit(X_train,y_train)\n",
    "Model_Scores[\"GaussianNaiveBayes\"]=f1_score(y_test,gnb.predict(X_test))\"\"\""
   ]
  },
  {
   "cell_type": "code",
   "execution_count": 13,
   "id": "cbb67991",
   "metadata": {
    "execution": {
     "iopub.execute_input": "2022-12-18T09:19:31.379877Z",
     "iopub.status.busy": "2022-12-18T09:19:31.379443Z",
     "iopub.status.idle": "2022-12-18T09:19:31.385690Z",
     "shell.execute_reply": "2022-12-18T09:19:31.384809Z"
    },
    "papermill": {
     "duration": 0.019494,
     "end_time": "2022-12-18T09:19:31.387903",
     "exception": false,
     "start_time": "2022-12-18T09:19:31.368409",
     "status": "completed"
    },
    "tags": []
   },
   "outputs": [
    {
     "data": {
      "text/plain": [
       "'grid_params = { \\'n_neighbors\\' : list(range(1,21,1)),\\n               \\'weights\\' : [\\'uniform\\',\\'distance\\'],\\n               \\'metric\\' : [\\'minkowski\\',\\'euclidean\\',\\'manhattan\\']}\\nBest parameter value:{\\'metric\\': \\'manhattan\\', \\'n_neighbors\\': 18, \\'weights\\': \\'distance\\'}\\nknc=KNeighborsClassifier(metric=\"manhattan\",n_neighbors=18,weights=\"distance\")\\nknc.fit(X_train,y_train)\\nModel_Scores[\"KNeighborsClassifier\"]=f1_score(y_test,knc.predict(X_test))'"
      ]
     },
     "execution_count": 13,
     "metadata": {},
     "output_type": "execute_result"
    }
   ],
   "source": [
    "\"\"\"grid_params = { 'n_neighbors' : list(range(1,21,1)),\n",
    "               'weights' : ['uniform','distance'],\n",
    "               'metric' : ['minkowski','euclidean','manhattan']}\n",
    "Best parameter value:{'metric': 'manhattan', 'n_neighbors': 18, 'weights': 'distance'}\n",
    "knc=KNeighborsClassifier(metric=\"manhattan\",n_neighbors=18,weights=\"distance\")\n",
    "knc.fit(X_train,y_train)\n",
    "Model_Scores[\"KNeighborsClassifier\"]=f1_score(y_test,knc.predict(X_test))\"\"\""
   ]
  },
  {
   "cell_type": "code",
   "execution_count": 14,
   "id": "f57e7af7",
   "metadata": {
    "execution": {
     "iopub.execute_input": "2022-12-18T09:19:31.407719Z",
     "iopub.status.busy": "2022-12-18T09:19:31.407303Z",
     "iopub.status.idle": "2022-12-18T09:19:31.414363Z",
     "shell.execute_reply": "2022-12-18T09:19:31.413066Z"
    },
    "papermill": {
     "duration": 0.019838,
     "end_time": "2022-12-18T09:19:31.416644",
     "exception": false,
     "start_time": "2022-12-18T09:19:31.396806",
     "status": "completed"
    },
    "tags": []
   },
   "outputs": [
    {
     "data": {
      "text/plain": [
       "'param_grid = { \\'C\\':[0.01,0.1,0.5,1,10,100],\\'kernel\\':[\\'rbf\\',\\'poly\\',\\'linear\\',\\'sigmoid\\'],\\'degree\\':[1,2,3,4,5,6]}\\nBest parameter value={\\'C\\': 0.5, \\'degree\\': 1, \\'kernel\\': \\'rbf\\'}\\n#svc=SVC(C=0.5,degree=1,kernel=\"rbf\")\\n#svc.fit(X_train,y_train)\\n#Model_Scores[\"SupportVectorClassifier\"]=f1_score(y_test,svc.predict(X_test))'"
      ]
     },
     "execution_count": 14,
     "metadata": {},
     "output_type": "execute_result"
    }
   ],
   "source": [
    "\"\"\"param_grid = { 'C':[0.01,0.1,0.5,1,10,100],'kernel':['rbf','poly','linear','sigmoid'],'degree':[1,2,3,4,5,6]}\n",
    "Best parameter value={'C': 0.5, 'degree': 1, 'kernel': 'rbf'}\n",
    "#svc=SVC(C=0.5,degree=1,kernel=\"rbf\")\n",
    "#svc.fit(X_train,y_train)\n",
    "#Model_Scores[\"SupportVectorClassifier\"]=f1_score(y_test,svc.predict(X_test))\"\"\""
   ]
  },
  {
   "cell_type": "code",
   "execution_count": 15,
   "id": "3df21547",
   "metadata": {
    "execution": {
     "iopub.execute_input": "2022-12-18T09:19:31.437129Z",
     "iopub.status.busy": "2022-12-18T09:19:31.436746Z",
     "iopub.status.idle": "2022-12-18T09:19:31.443911Z",
     "shell.execute_reply": "2022-12-18T09:19:31.442659Z"
    },
    "papermill": {
     "duration": 0.020149,
     "end_time": "2022-12-18T09:19:31.446453",
     "exception": false,
     "start_time": "2022-12-18T09:19:31.426304",
     "status": "completed"
    },
    "tags": []
   },
   "outputs": [
    {
     "data": {
      "text/plain": [
       "'param_grid={\\'penalty\\':[\\'l2\\'],\\'loss\\':[\\'squared_hinge\\',\\'hinge\\'],\\'C\\':[0.01,0.03,0.05,1,10]}\\nBest parameter value={\\'C\\': 0.03, \\'loss\\': \\'squared_hinge\\', \\'penalty\\': \\'l2\\'}\\nlsvc=LinearSVC(C=0.03,loss=\"squared_hinge\",penalty=\"l2\",max_iter=15000)\\nlsvc.fit(X_train,y_train)\\nModel_Scores[\"LinearSVC\"]=f1_score(y_test,lsvc.predict(X_test))'"
      ]
     },
     "execution_count": 15,
     "metadata": {},
     "output_type": "execute_result"
    }
   ],
   "source": [
    "\"\"\"param_grid={'penalty':['l2'],'loss':['squared_hinge','hinge'],'C':[0.01,0.03,0.05,1,10]}\n",
    "Best parameter value={'C': 0.03, 'loss': 'squared_hinge', 'penalty': 'l2'}\n",
    "lsvc=LinearSVC(C=0.03,loss=\"squared_hinge\",penalty=\"l2\",max_iter=15000)\n",
    "lsvc.fit(X_train,y_train)\n",
    "Model_Scores[\"LinearSVC\"]=f1_score(y_test,lsvc.predict(X_test))\"\"\""
   ]
  },
  {
   "cell_type": "code",
   "execution_count": 16,
   "id": "700493f7",
   "metadata": {
    "execution": {
     "iopub.execute_input": "2022-12-18T09:19:31.466342Z",
     "iopub.status.busy": "2022-12-18T09:19:31.465962Z",
     "iopub.status.idle": "2022-12-18T09:19:31.472992Z",
     "shell.execute_reply": "2022-12-18T09:19:31.471859Z"
    },
    "papermill": {
     "duration": 0.019995,
     "end_time": "2022-12-18T09:19:31.475574",
     "exception": false,
     "start_time": "2022-12-18T09:19:31.455579",
     "status": "completed"
    },
    "tags": []
   },
   "outputs": [
    {
     "data": {
      "text/plain": [
       "'param_grid={\\'criterion\\':[\\'entropy\\',\\'gini\\'],\\'splitter\\':[\\'random\\',\\'best\\'],\\'min_samples_leaf\\':list(range(10,20,2)),\\'max_depth\\':list(range(2,14,1)),\\'min_samples_split\\':list(range(1,31,1))}\\nBest parameter value={\\'criterion\\': \\'gini\\', \\'max_depth\\': 7, \\'min_samples_leaf\\': 14, \\'min_samples_split\\': 28, \\'splitter\\': \\'random\\'}\\ndtc=DecisionTreeClassifier(criterion=\\'gini\\',max_depth=7,min_samples_leaf=14,min_samples_split=28,splitter=\\'random\\')\\ndtc.fit(X_train,y_train)\\nModel_Scores[\"DecisionTreeClassifier\"]=f1_score(y_test,dtc.predict(X_test))'"
      ]
     },
     "execution_count": 16,
     "metadata": {},
     "output_type": "execute_result"
    }
   ],
   "source": [
    "\"\"\"param_grid={'criterion':['entropy','gini'],'splitter':['random','best'],'min_samples_leaf':list(range(10,20,2)),'max_depth':list(range(2,14,1)),'min_samples_split':list(range(1,31,1))}\n",
    "Best parameter value={'criterion': 'gini', 'max_depth': 7, 'min_samples_leaf': 14, 'min_samples_split': 28, 'splitter': 'random'}\n",
    "dtc=DecisionTreeClassifier(criterion='gini',max_depth=7,min_samples_leaf=14,min_samples_split=28,splitter='random')\n",
    "dtc.fit(X_train,y_train)\n",
    "Model_Scores[\"DecisionTreeClassifier\"]=f1_score(y_test,dtc.predict(X_test))\"\"\""
   ]
  },
  {
   "cell_type": "code",
   "execution_count": 17,
   "id": "69c36dc1",
   "metadata": {
    "execution": {
     "iopub.execute_input": "2022-12-18T09:19:31.496898Z",
     "iopub.status.busy": "2022-12-18T09:19:31.496497Z",
     "iopub.status.idle": "2022-12-18T09:19:31.502915Z",
     "shell.execute_reply": "2022-12-18T09:19:31.502056Z"
    },
    "papermill": {
     "duration": 0.019766,
     "end_time": "2022-12-18T09:19:31.504962",
     "exception": false,
     "start_time": "2022-12-18T09:19:31.485196",
     "status": "completed"
    },
    "tags": []
   },
   "outputs": [
    {
     "data": {
      "text/plain": [
       "'param_grid={\\'n_estimators\\' : [1200,1300,1400],\\'max_samples\\' : [250,275,300],\\'max_features\\' : [28,29,30]}\\nBest parameter value={\\'max_features\\': 29, \\'max_samples\\': 250, \\'n_estimators\\': 1400}\\nbc=BaggingClassifier(max_samples=250,n_estimators=1400)\\nbc.fit(X_train,y_train)\\nModel_Scores[\"BaggingClassifier\"]=f1_score(y_test,bc.predict(X_test))'"
      ]
     },
     "execution_count": 17,
     "metadata": {},
     "output_type": "execute_result"
    }
   ],
   "source": [
    "\"\"\"param_grid={'n_estimators' : [1200,1300,1400],'max_samples' : [250,275,300],'max_features' : [28,29,30]}\n",
    "Best parameter value={'max_features': 29, 'max_samples': 250, 'n_estimators': 1400}\n",
    "bc=BaggingClassifier(max_samples=250,n_estimators=1400)\n",
    "bc.fit(X_train,y_train)\n",
    "Model_Scores[\"BaggingClassifier\"]=f1_score(y_test,bc.predict(X_test))\"\"\""
   ]
  },
  {
   "cell_type": "code",
   "execution_count": 18,
   "id": "ff91bd5d",
   "metadata": {
    "execution": {
     "iopub.execute_input": "2022-12-18T09:19:31.525610Z",
     "iopub.status.busy": "2022-12-18T09:19:31.525167Z",
     "iopub.status.idle": "2022-12-18T09:19:31.532722Z",
     "shell.execute_reply": "2022-12-18T09:19:31.531517Z"
    },
    "papermill": {
     "duration": 0.020628,
     "end_time": "2022-12-18T09:19:31.534991",
     "exception": false,
     "start_time": "2022-12-18T09:19:31.514363",
     "status": "completed"
    },
    "tags": []
   },
   "outputs": [
    {
     "data": {
      "text/plain": [
       "'rfc=RandomForestClassifier(n_estimators=800,min_samples_split=10,min_samples_leaf=2,max_depth=50,random_state=10)\\nrfc.fit(X_train,y_train)\\nModel_Scores[\"RandomForestClassifier\"]=f1_score(y_test,rfc.predict(X_test))'"
      ]
     },
     "execution_count": 18,
     "metadata": {},
     "output_type": "execute_result"
    }
   ],
   "source": [
    "\"\"\"rfc=RandomForestClassifier(n_estimators=800,min_samples_split=10,min_samples_leaf=2,max_depth=50,random_state=10)\n",
    "rfc.fit(X_train,y_train)\n",
    "Model_Scores[\"RandomForestClassifier\"]=f1_score(y_test,rfc.predict(X_test))\"\"\""
   ]
  },
  {
   "cell_type": "code",
   "execution_count": 19,
   "id": "88dc5609",
   "metadata": {
    "execution": {
     "iopub.execute_input": "2022-12-18T09:19:31.555796Z",
     "iopub.status.busy": "2022-12-18T09:19:31.555336Z",
     "iopub.status.idle": "2022-12-18T09:19:44.855278Z",
     "shell.execute_reply": "2022-12-18T09:19:44.854087Z"
    },
    "papermill": {
     "duration": 13.313615,
     "end_time": "2022-12-18T09:19:44.858154",
     "exception": false,
     "start_time": "2022-12-18T09:19:31.544539",
     "status": "completed"
    },
    "tags": []
   },
   "outputs": [
    {
     "data": {
      "text/plain": [
       "RandomForestClassifier(max_depth=50, min_samples_leaf=2, min_samples_split=10,\n",
       "                       n_estimators=800, random_state=10)"
      ]
     },
     "execution_count": 19,
     "metadata": {},
     "output_type": "execute_result"
    }
   ],
   "source": [
    "rfc2=RandomForestClassifier(n_estimators=800,min_samples_split=10,min_samples_leaf=2,max_depth=50,random_state=10)\n",
    "rfc2.fit(demo,demo_y)"
   ]
  },
  {
   "cell_type": "code",
   "execution_count": 20,
   "id": "8fc03d20",
   "metadata": {
    "execution": {
     "iopub.execute_input": "2022-12-18T09:19:44.880951Z",
     "iopub.status.busy": "2022-12-18T09:19:44.880528Z",
     "iopub.status.idle": "2022-12-18T09:19:46.286098Z",
     "shell.execute_reply": "2022-12-18T09:19:46.284622Z"
    },
    "papermill": {
     "duration": 1.42046,
     "end_time": "2022-12-18T09:19:46.289018",
     "exception": false,
     "start_time": "2022-12-18T09:19:44.868558",
     "status": "completed"
    },
    "tags": []
   },
   "outputs": [
    {
     "data": {
      "text/plain": [
       "AdaBoostClassifier(learning_rate=0.04, n_estimators=100, random_state=10)"
      ]
     },
     "execution_count": 20,
     "metadata": {},
     "output_type": "execute_result"
    }
   ],
   "source": [
    "adc2=AdaBoostClassifier(random_state=10,learning_rate=0.04,n_estimators=100)\n",
    "adc2.fit(demo,demo_y)"
   ]
  },
  {
   "cell_type": "code",
   "execution_count": 21,
   "id": "539c0206",
   "metadata": {
    "execution": {
     "iopub.execute_input": "2022-12-18T09:19:46.311355Z",
     "iopub.status.busy": "2022-12-18T09:19:46.310893Z",
     "iopub.status.idle": "2022-12-18T09:19:46.318606Z",
     "shell.execute_reply": "2022-12-18T09:19:46.317420Z"
    },
    "papermill": {
     "duration": 0.021733,
     "end_time": "2022-12-18T09:19:46.320951",
     "exception": false,
     "start_time": "2022-12-18T09:19:46.299218",
     "status": "completed"
    },
    "tags": []
   },
   "outputs": [
    {
     "data": {
      "text/plain": [
       "'gbc=GradientBoostingClassifier(random_state=10,learning_rate=0.005,n_estimators=100,subsample=0.8,max_depth=8,min_samples_split=100,min_samples_leaf=20)\\ngbc.fit(X_train,y_train)\\nModel_Scores[\"GradientBoostingClassifier\"]=f1_score(y_test,gbc.predict(X_test))'"
      ]
     },
     "execution_count": 21,
     "metadata": {},
     "output_type": "execute_result"
    }
   ],
   "source": [
    "\"\"\"gbc=GradientBoostingClassifier(random_state=10,learning_rate=0.005,n_estimators=100,subsample=0.8,max_depth=8,min_samples_split=100,min_samples_leaf=20)\n",
    "gbc.fit(X_train,y_train)\n",
    "Model_Scores[\"GradientBoostingClassifier\"]=f1_score(y_test,gbc.predict(X_test))\"\"\""
   ]
  },
  {
   "cell_type": "code",
   "execution_count": 22,
   "id": "0e718832",
   "metadata": {
    "execution": {
     "iopub.execute_input": "2022-12-18T09:19:46.348113Z",
     "iopub.status.busy": "2022-12-18T09:19:46.347312Z",
     "iopub.status.idle": "2022-12-18T09:19:46.354942Z",
     "shell.execute_reply": "2022-12-18T09:19:46.353706Z"
    },
    "papermill": {
     "duration": 0.02163,
     "end_time": "2022-12-18T09:19:46.357283",
     "exception": false,
     "start_time": "2022-12-18T09:19:46.335653",
     "status": "completed"
    },
    "tags": []
   },
   "outputs": [
    {
     "data": {
      "text/plain": [
       "'adc=AdaBoostClassifier(random_state=10,learning_rate=0.04,n_estimators=100)\\nadc.fit(X_train,y_train)\\nModel_Scores[\"AdaBoostClassifier\"]=f1_score(y_test,adc.predict(X_test))'"
      ]
     },
     "execution_count": 22,
     "metadata": {},
     "output_type": "execute_result"
    }
   ],
   "source": [
    "\"\"\"adc=AdaBoostClassifier(random_state=10,learning_rate=0.04,n_estimators=100)\n",
    "adc.fit(X_train,y_train)\n",
    "Model_Scores[\"AdaBoostClassifier\"]=f1_score(y_test,adc.predict(X_test))\"\"\""
   ]
  },
  {
   "cell_type": "code",
   "execution_count": 23,
   "id": "f6740ba2",
   "metadata": {
    "execution": {
     "iopub.execute_input": "2022-12-18T09:19:46.379350Z",
     "iopub.status.busy": "2022-12-18T09:19:46.378918Z",
     "iopub.status.idle": "2022-12-18T09:19:46.386439Z",
     "shell.execute_reply": "2022-12-18T09:19:46.385257Z"
    },
    "papermill": {
     "duration": 0.022574,
     "end_time": "2022-12-18T09:19:46.389765",
     "exception": false,
     "start_time": "2022-12-18T09:19:46.367191",
     "status": "completed"
    },
    "tags": []
   },
   "outputs": [
    {
     "data": {
      "text/plain": [
       "'mlp=MLPClassifier(random_state=10,max_iter=1000)\\nmlp.fit(X_train,y_train)\\nprint(f1_score(y_test,mlp.predict(X_test)))'"
      ]
     },
     "execution_count": 23,
     "metadata": {},
     "output_type": "execute_result"
    }
   ],
   "source": [
    "\"\"\"mlp=MLPClassifier(random_state=10,max_iter=1000)\n",
    "mlp.fit(X_train,y_train)\n",
    "print(f1_score(y_test,mlp.predict(X_test)))\"\"\""
   ]
  },
  {
   "cell_type": "code",
   "execution_count": 24,
   "id": "836ccca5",
   "metadata": {
    "execution": {
     "iopub.execute_input": "2022-12-18T09:19:46.411244Z",
     "iopub.status.busy": "2022-12-18T09:19:46.410800Z",
     "iopub.status.idle": "2022-12-18T09:19:46.418554Z",
     "shell.execute_reply": "2022-12-18T09:19:46.417268Z"
    },
    "papermill": {
     "duration": 0.021407,
     "end_time": "2022-12-18T09:19:46.421061",
     "exception": false,
     "start_time": "2022-12-18T09:19:46.399654",
     "status": "completed"
    },
    "tags": []
   },
   "outputs": [
    {
     "data": {
      "text/plain": [
       "'mlp1=MLPClassifier(random_state=10,max_iter=1000,activation=\"tanh\")\\nparam_grid = {\\n    \\'hidden_layer_sizes\\': [(200,150,100)],\\n    \\'solver\\': [\\'sgd\\'],\\n    \\'alpha\\': [0.0001, 0.05],\\n    \\'learning_rate\\': [\\'constant\\',\\'adaptive\\'],\\n}\\nmlp_gs=GridSearchCV(mlp1,param_grid,cv=5,n_jobs=-1)\\nmlp_gs.fit(X_train,y_train)'"
      ]
     },
     "execution_count": 24,
     "metadata": {},
     "output_type": "execute_result"
    }
   ],
   "source": [
    "\"\"\"mlp1=MLPClassifier(random_state=10,max_iter=1000,activation=\"tanh\")\n",
    "param_grid = {\n",
    "    'hidden_layer_sizes': [(200,150,100)],\n",
    "    'solver': ['sgd'],\n",
    "    'alpha': [0.0001, 0.05],\n",
    "    'learning_rate': ['constant','adaptive'],\n",
    "}\n",
    "mlp_gs=GridSearchCV(mlp1,param_grid,cv=5,n_jobs=-1)\n",
    "mlp_gs.fit(X_train,y_train)\"\"\""
   ]
  },
  {
   "cell_type": "code",
   "execution_count": 25,
   "id": "24b9a7b4",
   "metadata": {
    "execution": {
     "iopub.execute_input": "2022-12-18T09:19:46.445023Z",
     "iopub.status.busy": "2022-12-18T09:19:46.444589Z",
     "iopub.status.idle": "2022-12-18T09:19:46.451852Z",
     "shell.execute_reply": "2022-12-18T09:19:46.450152Z"
    },
    "papermill": {
     "duration": 0.021683,
     "end_time": "2022-12-18T09:19:46.454353",
     "exception": false,
     "start_time": "2022-12-18T09:19:46.432670",
     "status": "completed"
    },
    "tags": []
   },
   "outputs": [
    {
     "data": {
      "text/plain": [
       "'XGBC=xgb.XGBClassifier(random_state=10,gamma=0.3,n_estimators=100,max_depth=6,min_child_weight=2,learning_rate=0.05,colsample_bytree=0.75,subsample=0.45,scale_pos_weight=1,reg_alpha=1e-6)\\nXGBC.fit(X_train,y_train)\\nprint(f1_score(y_test,XGBC.predict(X_test)))'"
      ]
     },
     "execution_count": 25,
     "metadata": {},
     "output_type": "execute_result"
    }
   ],
   "source": [
    "\"\"\"XGBC=xgb.XGBClassifier(random_state=10,gamma=0.3,n_estimators=100,max_depth=6,min_child_weight=2,learning_rate=0.05,colsample_bytree=0.75,subsample=0.45,scale_pos_weight=1,reg_alpha=1e-6)\n",
    "XGBC.fit(X_train,y_train)\n",
    "print(f1_score(y_test,XGBC.predict(X_test)))\"\"\""
   ]
  },
  {
   "cell_type": "code",
   "execution_count": 26,
   "id": "1a011bce",
   "metadata": {
    "execution": {
     "iopub.execute_input": "2022-12-18T09:19:46.477799Z",
     "iopub.status.busy": "2022-12-18T09:19:46.477397Z",
     "iopub.status.idle": "2022-12-18T09:19:46.484691Z",
     "shell.execute_reply": "2022-12-18T09:19:46.483802Z"
    },
    "papermill": {
     "duration": 0.02216,
     "end_time": "2022-12-18T09:19:46.487432",
     "exception": false,
     "start_time": "2022-12-18T09:19:46.465272",
     "status": "completed"
    },
    "tags": []
   },
   "outputs": [
    {
     "data": {
      "text/plain": [
       "\"XGBC1=xgb.XGBClassifier(random_state=10,gamma=0.3,n_estimators=100,max_depth=6,min_child_weight=2,learning_rate=0.05,colsample_bytree=0.75,subsample=0.45,scale_pos_weight=1,reg_alpha=1e-6)\\nparams = {\\n    'reg_alpha':[1e-5,1e-4,1e-6,1e-7]\\n}\\nsearch = GridSearchCV(XGBC1,params, cv=5, n_jobs=-1)\\nsearch.fit(X_train,y_train)\""
      ]
     },
     "execution_count": 26,
     "metadata": {},
     "output_type": "execute_result"
    }
   ],
   "source": [
    "\"\"\"XGBC1=xgb.XGBClassifier(random_state=10,gamma=0.3,n_estimators=100,max_depth=6,min_child_weight=2,learning_rate=0.05,colsample_bytree=0.75,subsample=0.45,scale_pos_weight=1,reg_alpha=1e-6)\n",
    "params = {\n",
    "    'reg_alpha':[1e-5,1e-4,1e-6,1e-7]\n",
    "}\n",
    "search = GridSearchCV(XGBC1,params, cv=5, n_jobs=-1)\n",
    "search.fit(X_train,y_train)\"\"\""
   ]
  },
  {
   "cell_type": "code",
   "execution_count": 27,
   "id": "19d4ed00",
   "metadata": {
    "execution": {
     "iopub.execute_input": "2022-12-18T09:19:46.511901Z",
     "iopub.status.busy": "2022-12-18T09:19:46.511043Z",
     "iopub.status.idle": "2022-12-18T09:19:46.567216Z",
     "shell.execute_reply": "2022-12-18T09:19:46.565944Z"
    },
    "papermill": {
     "duration": 0.071408,
     "end_time": "2022-12-18T09:19:46.569967",
     "exception": false,
     "start_time": "2022-12-18T09:19:46.498559",
     "status": "completed"
    },
    "tags": []
   },
   "outputs": [],
   "source": [
    "test=pd.read_csv('/kaggle/input/marketing-strategy-personalised-offer/test_data.csv')"
   ]
  },
  {
   "cell_type": "code",
   "execution_count": 28,
   "id": "e5b218bb",
   "metadata": {
    "execution": {
     "iopub.execute_input": "2022-12-18T09:19:46.593731Z",
     "iopub.status.busy": "2022-12-18T09:19:46.593272Z",
     "iopub.status.idle": "2022-12-18T09:19:46.643971Z",
     "shell.execute_reply": "2022-12-18T09:19:46.642606Z"
    },
    "papermill": {
     "duration": 0.065103,
     "end_time": "2022-12-18T09:19:46.646647",
     "exception": false,
     "start_time": "2022-12-18T09:19:46.581544",
     "status": "completed"
    },
    "tags": []
   },
   "outputs": [
    {
     "data": {
      "text/plain": [
       "0       1.0\n",
       "1       1.0\n",
       "2       1.0\n",
       "3       1.0\n",
       "4       1.0\n",
       "       ... \n",
       "5300    1.0\n",
       "5301    1.0\n",
       "5302    1.0\n",
       "5303    1.0\n",
       "5304    1.0\n",
       "Name: travelled_more_than_5mins_for_offer, Length: 5305, dtype: float64"
      ]
     },
     "execution_count": 28,
     "metadata": {},
     "output_type": "execute_result"
    }
   ],
   "source": [
    "for i in test.columns:\n",
    "    if test[i].dtypes==\"object\":\n",
    "        test[i]=imputer.fit_transform(np.array(test[i]).reshape(-1,1))\n",
    "    if test[i].dtypes==\"int64\":\n",
    "        test[i]=imputer2.fit_transform(np.array(test[i]).reshape(-1,1))\n",
    "test.pop('travelled_more_than_5mins_for_offer')"
   ]
  },
  {
   "cell_type": "code",
   "execution_count": 29,
   "id": "feffb86d",
   "metadata": {
    "execution": {
     "iopub.execute_input": "2022-12-18T09:19:46.668912Z",
     "iopub.status.busy": "2022-12-18T09:19:46.668485Z",
     "iopub.status.idle": "2022-12-18T09:19:46.711991Z",
     "shell.execute_reply": "2022-12-18T09:19:46.710983Z"
    },
    "papermill": {
     "duration": 0.057621,
     "end_time": "2022-12-18T09:19:46.714665",
     "exception": false,
     "start_time": "2022-12-18T09:19:46.657044",
     "status": "completed"
    },
    "tags": []
   },
   "outputs": [],
   "source": [
    "for i in test.columns:\n",
    "    if test[i].dtypes==\"object\":\n",
    "        test[i]=ordenc.fit_transform(np.array(test[i]).reshape(-1,1))"
   ]
  },
  {
   "cell_type": "code",
   "execution_count": 30,
   "id": "0816c94e",
   "metadata": {
    "execution": {
     "iopub.execute_input": "2022-12-18T09:19:46.737589Z",
     "iopub.status.busy": "2022-12-18T09:19:46.736541Z",
     "iopub.status.idle": "2022-12-18T09:19:46.748896Z",
     "shell.execute_reply": "2022-12-18T09:19:46.747924Z"
    },
    "papermill": {
     "duration": 0.026789,
     "end_time": "2022-12-18T09:19:46.751732",
     "exception": false,
     "start_time": "2022-12-18T09:19:46.724943",
     "status": "completed"
    },
    "tags": []
   },
   "outputs": [],
   "source": [
    "test=StandardScaler().fit_transform(test)"
   ]
  },
  {
   "cell_type": "code",
   "execution_count": 31,
   "id": "d50ad410",
   "metadata": {
    "execution": {
     "iopub.execute_input": "2022-12-18T09:19:46.775170Z",
     "iopub.status.busy": "2022-12-18T09:19:46.774545Z",
     "iopub.status.idle": "2022-12-18T09:19:47.884668Z",
     "shell.execute_reply": "2022-12-18T09:19:47.883483Z"
    },
    "papermill": {
     "duration": 1.124864,
     "end_time": "2022-12-18T09:19:47.887544",
     "exception": false,
     "start_time": "2022-12-18T09:19:46.762680",
     "status": "completed"
    },
    "tags": []
   },
   "outputs": [],
   "source": [
    "prediction= rfc2.predict(test)\n",
    "arr=[]\n",
    "for i in prediction:\n",
    "    if i==0:\n",
    "        arr.append('No')\n",
    "    if i==1:\n",
    "        arr.append('Yes')\n",
    "submission=pd.DataFrame(columns = ['id','Offer Accepted'])\n",
    "submission['id']= [i for i in range(len(arr))]\n",
    "submission['Offer Accepted'] = arr\n",
    "submission.to_csv('submission.csv',index=False)"
   ]
  },
  {
   "cell_type": "code",
   "execution_count": 32,
   "id": "7d7548ab",
   "metadata": {
    "execution": {
     "iopub.execute_input": "2022-12-18T09:19:47.909987Z",
     "iopub.status.busy": "2022-12-18T09:19:47.909591Z",
     "iopub.status.idle": "2022-12-18T09:19:47.916482Z",
     "shell.execute_reply": "2022-12-18T09:19:47.914855Z"
    },
    "papermill": {
     "duration": 0.021116,
     "end_time": "2022-12-18T09:19:47.919044",
     "exception": false,
     "start_time": "2022-12-18T09:19:47.897928",
     "status": "completed"
    },
    "tags": []
   },
   "outputs": [
    {
     "name": "stdout",
     "output_type": "stream",
     "text": [
      "\n"
     ]
    }
   ],
   "source": [
    "print(\"\\n\".join(\"{}\\t\\t{}\".format(k, v) for k, v in Model_Scores.items()))"
   ]
  },
  {
   "cell_type": "code",
   "execution_count": 33,
   "id": "5dbf20c8",
   "metadata": {
    "execution": {
     "iopub.execute_input": "2022-12-18T09:19:47.941836Z",
     "iopub.status.busy": "2022-12-18T09:19:47.941438Z",
     "iopub.status.idle": "2022-12-18T09:19:47.949156Z",
     "shell.execute_reply": "2022-12-18T09:19:47.947864Z"
    },
    "papermill": {
     "duration": 0.022135,
     "end_time": "2022-12-18T09:19:47.951588",
     "exception": false,
     "start_time": "2022-12-18T09:19:47.929453",
     "status": "completed"
    },
    "tags": []
   },
   "outputs": [
    {
     "data": {
      "text/plain": [
       "'DummyClassifier\\t\\t0.5213379469434833\\nLogisticRegression\\t\\t0.685749844430616\\nRidgeClassifier\\t\\t0.6824851701529816\\nGaussianNaiveBayes\\t\\t0.6844583987441131\\nKNeighborsClassifier\\t\\t0.6684210526315788\\nSupportVectorClassifier\\t\\t0.7035236938031592\\nLinearSVC\\t\\t0.6855541718555417\\nDecisionTreeClassifier\\t\\t0.6717607973421926\\nBaggingClassifier\\t\\t0.7112068965517242\\nRandomForestClassifier\\t\\t0.7152276295133437\\nGradientBoostingClassifier\\t\\t0.7247269672360683\\nAdaBoostClassifier\\t\\t0.7229969920700028'"
      ]
     },
     "execution_count": 33,
     "metadata": {},
     "output_type": "execute_result"
    }
   ],
   "source": [
    "\"\"\"DummyClassifier\t\t0.5213379469434833\n",
    "LogisticRegression\t\t0.685749844430616\n",
    "RidgeClassifier\t\t0.6824851701529816\n",
    "GaussianNaiveBayes\t\t0.6844583987441131\n",
    "KNeighborsClassifier\t\t0.6684210526315788\n",
    "SupportVectorClassifier\t\t0.7035236938031592\n",
    "LinearSVC\t\t0.6855541718555417\n",
    "DecisionTreeClassifier\t\t0.6717607973421926\n",
    "BaggingClassifier\t\t0.7112068965517242\n",
    "RandomForestClassifier\t\t0.7152276295133437\n",
    "GradientBoostingClassifier\t\t0.7247269672360683\n",
    "AdaBoostClassifier\t\t0.7229969920700028\"\"\""
   ]
  }
 ],
 "metadata": {
  "kernelspec": {
   "display_name": "Python 3",
   "language": "python",
   "name": "python3"
  },
  "language_info": {
   "codemirror_mode": {
    "name": "ipython",
    "version": 3
   },
   "file_extension": ".py",
   "mimetype": "text/x-python",
   "name": "python",
   "nbconvert_exporter": "python",
   "pygments_lexer": "ipython3",
   "version": "3.7.12"
  },
  "papermill": {
   "default_parameters": {},
   "duration": 29.156372,
   "end_time": "2022-12-18T09:19:48.784369",
   "environment_variables": {},
   "exception": null,
   "input_path": "__notebook__.ipynb",
   "output_path": "__notebook__.ipynb",
   "parameters": {},
   "start_time": "2022-12-18T09:19:19.627997",
   "version": "2.3.4"
  }
 },
 "nbformat": 4,
 "nbformat_minor": 5
}
